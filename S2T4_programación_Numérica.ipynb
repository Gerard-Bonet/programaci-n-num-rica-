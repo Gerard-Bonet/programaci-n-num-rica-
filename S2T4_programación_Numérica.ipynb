{
 "cells": [
  {
   "cell_type": "markdown",
   "id": "2ab6e460",
   "metadata": {},
   "source": [
    "# S02 T04: Práctica amb programación numérica"
   ]
  },
  {
   "cell_type": "markdown",
   "id": "4ddf0bc7",
   "metadata": {},
   "source": [
    "* Ejercicio 1\n",
    "\n",
    "Crea una función que dado un Array de una dimensión, te haga un resumen estadístico básico de los datos.\n",
    "Si detecta que el array tiene más de una dimensión, debe mostrar un mensaje de error."
   ]
  },
  {
   "cell_type": "code",
   "execution_count": 4,
   "id": "6e73ba7c",
   "metadata": {},
   "outputs": [
    {
     "name": "stdout",
     "output_type": "stream",
     "text": [
      " la media de valores de la matriz es : 27.0\n",
      "\n",
      "\n",
      " la mediana es : 30.0\n",
      "\n",
      "\n",
      " el coeficiente de correlación : 1.0\n",
      "\n",
      "\n",
      " la desviación estandar es : 15.16212386178137\n",
      "\n",
      "\n",
      "\n",
      "\n",
      " La matriz es de dimensión dos o más, no apta para hacer los cálculos  \n"
     ]
    }
   ],
   "source": [
    "import numpy as np \n",
    "from numpy import random\n",
    "\n",
    "arr =random.randint(50, size=(200)) # creamos una array de una dimensión hecha de manera aletaroria para hacer las pruebas \n",
    "# luego creamos la función que nos hará los cálculos estadísitcos. \n",
    "\n",
    "arr2 = np. array ([[1,0], [0,1]]) # sea una segunda matriz de prueba para comprobar la función \n",
    "\n",
    "def estadistica ( x ):  # donde x es la array a estudiar\n",
    "    if x.ndim > 1 : \n",
    "        print ( \" La matriz es de dimensión dos o más, no apta para hacer los cálculos  \")\n",
    "    else : \n",
    "        print ( \" la media de valores de la matriz es :\", np.mean(x))\n",
    "        print (\"\\n\")\n",
    "        print ( \" la mediana es :\", np.median(x))\n",
    "        print (\"\\n\")\n",
    "        print ( \" el coeficiente de correlación :\", np.corrcoef(x))\n",
    "        print (\"\\n\")\n",
    "        print ( \" la desviación estandar es :\", np.std(x))\n",
    "        print (\"\\n\")\n",
    "estadistica ( arr)\n",
    "print (\"\\n\")\n",
    "estadistica ( arr2)\n",
    "\n"
   ]
  },
  {
   "cell_type": "markdown",
   "id": "439e956d",
   "metadata": {},
   "source": [
    "- Ejercicio 2\n",
    "\n",
    "Crea una función que genere un cuadrado NxN de números aleatorios entre el 0 y el 100."
   ]
  },
  {
   "cell_type": "code",
   "execution_count": 9,
   "id": "7c784a6b",
   "metadata": {},
   "outputs": [
    {
     "name": "stdout",
     "output_type": "stream",
     "text": [
      " introduce un valor entero natural 10\n",
      "[[65. 24. 89.  5. 45. 60. 93. 35. 57. 10.]\n",
      " [43. 20. 31. 11.  1.  6. 70. 19.  9. 15.]\n",
      " [21. 83. 40. 15. 67.  1. 82. 56. 16.  8.]\n",
      " [39. 40. 24. 31. 30. 51.  8. 12. 33. 33.]\n",
      " [48. 58. 81. 12. 61. 93. 55. 62. 84. 63.]\n",
      " [ 9. 62. 47. 61. 88. 59. 21. 39. 40. 58.]\n",
      " [ 6. 91. 58. 35. 66. 89. 45. 49.  6. 68.]\n",
      " [24. 67. 21.  3. 29. 86. 40.  9. 81. 32.]\n",
      " [61. 51. 67. 56.  1. 32.  8. 73. 10. 41.]\n",
      " [21. 92. 35. 42. 24. 65. 90.  9. 92. 90.]]\n"
     ]
    }
   ],
   "source": [
    "# tomamos el valor de entrada con un input \n",
    "n = int( input ( \" introduce un valor entero natural \"))\n",
    "\n",
    "NxN = np.zeros((n,n)) \n",
    "\n",
    "def matriz ( n, arr ):\n",
    "    \n",
    "    arr = np.zeros((n,n))    \n",
    "\n",
    "    for x in range(0,n):\n",
    "        for y in range (0,n) :\n",
    "            arr [x][y] = random.randint (0,100) \n",
    "    return arr\n",
    "NxN = matriz ( n , NxN )\n",
    "print ( NxN)\n",
    "            \n",
    "    "
   ]
  },
  {
   "cell_type": "markdown",
   "id": "6203a567",
   "metadata": {},
   "source": [
    "- Ejercicio 3\n",
    "\n",
    "Crea una función que dada una tabla de dos dimensiones, \n",
    "\n",
    "te calcule los totales por fila y los totales por columna."
   ]
  },
  {
   "cell_type": "code",
   "execution_count": 28,
   "id": "7adab462",
   "metadata": {},
   "outputs": [
    {
     "name": "stdout",
     "output_type": "stream",
     "text": [
      " introduce un valor entero natural 4\n",
      " introduce otro  valor entero natural 3\n",
      "[[-88 -46 -63]\n",
      " [ 83  47   2]\n",
      " [-85  80 -60]\n",
      " [ 24 -26 -46]]\n",
      " la suma a través de las columnas es :  [ -66   55 -167]\n",
      " la suma a través de las columnas es :  [-197  132  -65  -48]\n",
      "None\n"
     ]
    }
   ],
   "source": [
    "# tomamos el valor de entrada con un input para crear una matriz aleatoria  \n",
    "import numpy as np \n",
    "k = int( input ( \" introduce un valor entero natural \"))\n",
    "l = int( input ( \" introduce otro  valor entero natural \"))\n",
    "tabla= np.zeros((k,l), dtype = \"int64\" ) \n",
    "for x in range(0,k):\n",
    "    for y in range (0,l) :\n",
    "        tabla [x][y] = int (random.randint (0,100)* ((-1)**( random.randint (1,3))))\n",
    "print (tabla )\n",
    "\n",
    "\n",
    "def suma ( tabla ): \n",
    "    print ( \" la suma a través de las columnas es : \" , np. sum ( tabla , axis=0 ))\n",
    "    print ( \" la suma a través de las columnas es : \" , np. sum ( tabla , axis=1 ))\n",
    "    \n",
    "\n",
    "    \n",
    "print (suma ( tabla ))\n",
    "    \n"
   ]
  },
  {
   "cell_type": "markdown",
   "id": "d5dac20b",
   "metadata": {},
   "source": [
    "- Ejercicio 4\n",
    "\n",
    "Implementa manualmente una función que calcule el coeficiente de correlación. \n",
    "\n",
    "Infórmate sobre sus usos e interpretación."
   ]
  },
  {
   "cell_type": "markdown",
   "id": "b4029795",
   "metadata": {},
   "source": [
    "El coeficiente de correlación mide la _**relación**_ entre dos variables.\n",
    "\n",
    "Su valor es entre -1 y 1. Cuanto más cerca se encuentre el valor a 1 o -1\n",
    "\n",
    "querrá decir que las variables son más dependientes una de otras, y cuando el valor\n",
    "\n",
    "sea cero o cercano a cero, querrá decir que las variables son independientes entre sí\n",
    "\n",
    "El hecho de que sea positivo o negativo nos indica si a la dependencia entre las\n",
    "\n",
    "dos variables es proporcional o inversamente proporciona. Es decir, sean dos\n",
    "\n",
    "variables x, y; si el coeficiente es positivo, cuando x crezca, y también lo hará.\n",
    "\n",
    "Sin embargo, cuando sean inversamente proporcionales, cuando una de las variables crezca, la\n",
    "\n",
    "decrecerá.\n",
    "\n",
    "El coeficiente de correlación también nos sirve para para medir la bondad de un modelo\n",
    "\n",
    "experimental o de una hipótesis, en un modelo de relación lineal, ya que entonces el cuadrado \n",
    "\n",
    "del coeficiente de correlación coincidirá con el cuadrado del coeficiente de determinación\n",
    "\n",
    "de la regresión lineal \n",
    "\n",
    "*Pongamos el caso que quisiera comprobarse algo tan evidente, como que existe una relación*\n",
    "\n",
    "*directa entre el volumen ocupado por un líquido en una botella y el nivel del líquido en*\n",
    "\n",
    "*esa botella. Un experimento tan simple como ir añadiendo cantidades de volumen de agua en*\n",
    "\n",
    "*una botella y medir la altura ( considerando la botella como un cilindro)*\n",
    "\n",
    "Un coeficiente cercano a 1 o a -1 nos indicaría que la hipótesis es correcta\n",
    "\n"
   ]
  },
  {
   "cell_type": "code",
   "execution_count": 47,
   "id": "82589209",
   "metadata": {},
   "outputs": [
    {
     "name": "stdout",
     "output_type": "stream",
     "text": [
      " el coeficiente de correlación es :  [[1.         0.41825355]\n",
      " [0.41825355 1.        ]]\n"
     ]
    }
   ],
   "source": [
    "\n",
    "vol = np. array ([0, 250, 500, 750, 1000, 1250, 1500, 17000, 2000, 2250 ], dtype= \"int\") # volumen en ml\n",
    "alt = np. array ([0, 3.1, 6.2, 9.1, 12.3, 15.4, 18.0, 21.2, 24.5, 27.5 ])# altura en centímetros\n",
    "# Estos resultados son de un experimento hecho en una clase de un instituto \n",
    "\n",
    "\n",
    "\n",
    "r = np.corrcoef((vol, alt) )\n",
    "print ( \" el coeficiente de correlación es : \", r )\n",
    "\n",
    "\n",
    "\n",
    "\n",
    "\n"
   ]
  },
  {
   "cell_type": "markdown",
   "id": "4c7f74d2",
   "metadata": {},
   "source": [
    "Este resultado nos indica que la relación entre las variables es un coeficiente de correlación de 0.42, baja, indica una \n",
    "una gran varianza o dispersión de los resultados respecto al ajuste lineal "
   ]
  },
  {
   "cell_type": "code",
   "execution_count": null,
   "id": "df95a818",
   "metadata": {},
   "outputs": [],
   "source": []
  }
 ],
 "metadata": {
  "kernelspec": {
   "display_name": "Python 3 (ipykernel)",
   "language": "python",
   "name": "python3"
  },
  "language_info": {
   "codemirror_mode": {
    "name": "ipython",
    "version": 3
   },
   "file_extension": ".py",
   "mimetype": "text/x-python",
   "name": "python",
   "nbconvert_exporter": "python",
   "pygments_lexer": "ipython3",
   "version": "3.9.7"
  }
 },
 "nbformat": 4,
 "nbformat_minor": 5
}
